{
  "nbformat": 4,
  "nbformat_minor": 0,
  "metadata": {
    "colab": {
      "provenance": [],
      "authorship_tag": "ABX9TyMpjluBeu/6Bo3/q8cw/BqP",
      "include_colab_link": true
    },
    "kernelspec": {
      "name": "python3",
      "display_name": "Python 3"
    },
    "language_info": {
      "name": "python"
    }
  },
  "cells": [
    {
      "cell_type": "markdown",
      "metadata": {
        "id": "view-in-github",
        "colab_type": "text"
      },
      "source": [
        "<a href=\"https://colab.research.google.com/github/MihirRajeshPanchal/DataHack-Thunderflow/blob/main/Food_Calorie.ipynb\" target=\"_parent\"><img src=\"https://colab.research.google.com/assets/colab-badge.svg\" alt=\"Open In Colab\"/></a>"
      ]
    },
    {
      "cell_type": "code",
      "source": [
        "import pandas as pd\n",
        "import numpy as np\n",
        "import matplotlib.pyplot as plt\n",
        "import seaborn as sns\n",
        "from pathlib import Path\n",
        "import os.path\n",
        "import tensorflow as tf\n",
        "from sklearn.model_selection import train_test_split\n",
        "from sklearn.preprocessing import LabelEncoder"
      ],
      "metadata": {
        "id": "LVsPJq2jUovP"
      },
      "execution_count": 1,
      "outputs": []
    },
    {
      "cell_type": "code",
      "source": [
        "from google.colab import drive\n",
        "drive.mount('/content/drive')"
      ],
      "metadata": {
        "colab": {
          "base_uri": "https://localhost:8080/"
        },
        "id": "e2crBto3VGkW",
        "outputId": "eb24a14b-3756-4e00-c0e4-8d95a5616b3a"
      },
      "execution_count": 3,
      "outputs": [
        {
          "output_type": "stream",
          "name": "stdout",
          "text": [
            "Drive already mounted at /content/drive; to attempt to forcibly remount, call drive.mount(\"/content/drive\", force_remount=True).\n"
          ]
        }
      ]
    },
    {
      "cell_type": "code",
      "source": [
        "image_dir = Path('/content/drive/MyDrive/Datahack 2.0/Indian-Food/Indian Food Images')"
      ],
      "metadata": {
        "id": "IZLx6EnkUrVk"
      },
      "execution_count": 4,
      "outputs": []
    },
    {
      "cell_type": "code",
      "source": [
        "filepath = list(image_dir.glob(r'**/*.jpg'))\n",
        "label = list(map(lambda x : os.path.split(os.path.split(x)[0])[1], filepath))"
      ],
      "metadata": {
        "id": "XbLDVXFrVh1P"
      },
      "execution_count": 7,
      "outputs": []
    },
    {
      "cell_type": "code",
      "source": [
        "filepath = pd.Series(filepath, name = 'Filepath').astype(str)\n",
        "label = pd.Series(label, name = 'Label')\n",
        "image_df = pd.concat([filepath, label], axis = 1).sample(frac = 1.0, random_state = 1).reset_index(drop = True)\n",
        "image_df.head()"
      ],
      "metadata": {
        "colab": {
          "base_uri": "https://localhost:8080/",
          "height": 204
        },
        "id": "tKQ-SH64Vp3y",
        "outputId": "d9a1a33d-fd02-4a3c-a363-5a967d83f4a5"
      },
      "execution_count": 8,
      "outputs": [
        {
          "output_type": "execute_result",
          "data": {
            "text/plain": [
              "                                            Filepath  \\\n",
              "0  /content/drive/MyDrive/Datahack 2.0/Indian-Foo...   \n",
              "1  /content/drive/MyDrive/Datahack 2.0/Indian-Foo...   \n",
              "2  /content/drive/MyDrive/Datahack 2.0/Indian-Foo...   \n",
              "3  /content/drive/MyDrive/Datahack 2.0/Indian-Foo...   \n",
              "4  /content/drive/MyDrive/Datahack 2.0/Indian-Foo...   \n",
              "\n",
              "                          Label  \n",
              "0                butter_chicken  \n",
              "1              qubani_ka_meetha  \n",
              "2                       kachori  \n",
              "3  makki_di_roti_sarson_da_saag  \n",
              "4                 chicken_tikka  "
            ],
            "text/html": [
              "\n",
              "  <div id=\"df-921a39d6-9c17-4261-9476-0e064bebc705\" class=\"colab-df-container\">\n",
              "    <div>\n",
              "<style scoped>\n",
              "    .dataframe tbody tr th:only-of-type {\n",
              "        vertical-align: middle;\n",
              "    }\n",
              "\n",
              "    .dataframe tbody tr th {\n",
              "        vertical-align: top;\n",
              "    }\n",
              "\n",
              "    .dataframe thead th {\n",
              "        text-align: right;\n",
              "    }\n",
              "</style>\n",
              "<table border=\"1\" class=\"dataframe\">\n",
              "  <thead>\n",
              "    <tr style=\"text-align: right;\">\n",
              "      <th></th>\n",
              "      <th>Filepath</th>\n",
              "      <th>Label</th>\n",
              "    </tr>\n",
              "  </thead>\n",
              "  <tbody>\n",
              "    <tr>\n",
              "      <th>0</th>\n",
              "      <td>/content/drive/MyDrive/Datahack 2.0/Indian-Foo...</td>\n",
              "      <td>butter_chicken</td>\n",
              "    </tr>\n",
              "    <tr>\n",
              "      <th>1</th>\n",
              "      <td>/content/drive/MyDrive/Datahack 2.0/Indian-Foo...</td>\n",
              "      <td>qubani_ka_meetha</td>\n",
              "    </tr>\n",
              "    <tr>\n",
              "      <th>2</th>\n",
              "      <td>/content/drive/MyDrive/Datahack 2.0/Indian-Foo...</td>\n",
              "      <td>kachori</td>\n",
              "    </tr>\n",
              "    <tr>\n",
              "      <th>3</th>\n",
              "      <td>/content/drive/MyDrive/Datahack 2.0/Indian-Foo...</td>\n",
              "      <td>makki_di_roti_sarson_da_saag</td>\n",
              "    </tr>\n",
              "    <tr>\n",
              "      <th>4</th>\n",
              "      <td>/content/drive/MyDrive/Datahack 2.0/Indian-Foo...</td>\n",
              "      <td>chicken_tikka</td>\n",
              "    </tr>\n",
              "  </tbody>\n",
              "</table>\n",
              "</div>\n",
              "    <div class=\"colab-df-buttons\">\n",
              "\n",
              "  <div class=\"colab-df-container\">\n",
              "    <button class=\"colab-df-convert\" onclick=\"convertToInteractive('df-921a39d6-9c17-4261-9476-0e064bebc705')\"\n",
              "            title=\"Convert this dataframe to an interactive table.\"\n",
              "            style=\"display:none;\">\n",
              "\n",
              "  <svg xmlns=\"http://www.w3.org/2000/svg\" height=\"24px\" viewBox=\"0 -960 960 960\">\n",
              "    <path d=\"M120-120v-720h720v720H120Zm60-500h600v-160H180v160Zm220 220h160v-160H400v160Zm0 220h160v-160H400v160ZM180-400h160v-160H180v160Zm440 0h160v-160H620v160ZM180-180h160v-160H180v160Zm440 0h160v-160H620v160Z\"/>\n",
              "  </svg>\n",
              "    </button>\n",
              "\n",
              "  <style>\n",
              "    .colab-df-container {\n",
              "      display:flex;\n",
              "      gap: 12px;\n",
              "    }\n",
              "\n",
              "    .colab-df-convert {\n",
              "      background-color: #E8F0FE;\n",
              "      border: none;\n",
              "      border-radius: 50%;\n",
              "      cursor: pointer;\n",
              "      display: none;\n",
              "      fill: #1967D2;\n",
              "      height: 32px;\n",
              "      padding: 0 0 0 0;\n",
              "      width: 32px;\n",
              "    }\n",
              "\n",
              "    .colab-df-convert:hover {\n",
              "      background-color: #E2EBFA;\n",
              "      box-shadow: 0px 1px 2px rgba(60, 64, 67, 0.3), 0px 1px 3px 1px rgba(60, 64, 67, 0.15);\n",
              "      fill: #174EA6;\n",
              "    }\n",
              "\n",
              "    .colab-df-buttons div {\n",
              "      margin-bottom: 4px;\n",
              "    }\n",
              "\n",
              "    [theme=dark] .colab-df-convert {\n",
              "      background-color: #3B4455;\n",
              "      fill: #D2E3FC;\n",
              "    }\n",
              "\n",
              "    [theme=dark] .colab-df-convert:hover {\n",
              "      background-color: #434B5C;\n",
              "      box-shadow: 0px 1px 3px 1px rgba(0, 0, 0, 0.15);\n",
              "      filter: drop-shadow(0px 1px 2px rgba(0, 0, 0, 0.3));\n",
              "      fill: #FFFFFF;\n",
              "    }\n",
              "  </style>\n",
              "\n",
              "    <script>\n",
              "      const buttonEl =\n",
              "        document.querySelector('#df-921a39d6-9c17-4261-9476-0e064bebc705 button.colab-df-convert');\n",
              "      buttonEl.style.display =\n",
              "        google.colab.kernel.accessAllowed ? 'block' : 'none';\n",
              "\n",
              "      async function convertToInteractive(key) {\n",
              "        const element = document.querySelector('#df-921a39d6-9c17-4261-9476-0e064bebc705');\n",
              "        const dataTable =\n",
              "          await google.colab.kernel.invokeFunction('convertToInteractive',\n",
              "                                                    [key], {});\n",
              "        if (!dataTable) return;\n",
              "\n",
              "        const docLinkHtml = 'Like what you see? Visit the ' +\n",
              "          '<a target=\"_blank\" href=https://colab.research.google.com/notebooks/data_table.ipynb>data table notebook</a>'\n",
              "          + ' to learn more about interactive tables.';\n",
              "        element.innerHTML = '';\n",
              "        dataTable['output_type'] = 'display_data';\n",
              "        await google.colab.output.renderOutput(dataTable, element);\n",
              "        const docLink = document.createElement('div');\n",
              "        docLink.innerHTML = docLinkHtml;\n",
              "        element.appendChild(docLink);\n",
              "      }\n",
              "    </script>\n",
              "  </div>\n",
              "\n",
              "\n",
              "<div id=\"df-a86ce3eb-3245-4f42-ba73-addf13e35e95\">\n",
              "  <button class=\"colab-df-quickchart\" onclick=\"quickchart('df-a86ce3eb-3245-4f42-ba73-addf13e35e95')\"\n",
              "            title=\"Suggest charts.\"\n",
              "            style=\"display:none;\">\n",
              "\n",
              "<svg xmlns=\"http://www.w3.org/2000/svg\" height=\"24px\"viewBox=\"0 0 24 24\"\n",
              "     width=\"24px\">\n",
              "    <g>\n",
              "        <path d=\"M19 3H5c-1.1 0-2 .9-2 2v14c0 1.1.9 2 2 2h14c1.1 0 2-.9 2-2V5c0-1.1-.9-2-2-2zM9 17H7v-7h2v7zm4 0h-2V7h2v10zm4 0h-2v-4h2v4z\"/>\n",
              "    </g>\n",
              "</svg>\n",
              "  </button>\n",
              "\n",
              "<style>\n",
              "  .colab-df-quickchart {\n",
              "      --bg-color: #E8F0FE;\n",
              "      --fill-color: #1967D2;\n",
              "      --hover-bg-color: #E2EBFA;\n",
              "      --hover-fill-color: #174EA6;\n",
              "      --disabled-fill-color: #AAA;\n",
              "      --disabled-bg-color: #DDD;\n",
              "  }\n",
              "\n",
              "  [theme=dark] .colab-df-quickchart {\n",
              "      --bg-color: #3B4455;\n",
              "      --fill-color: #D2E3FC;\n",
              "      --hover-bg-color: #434B5C;\n",
              "      --hover-fill-color: #FFFFFF;\n",
              "      --disabled-bg-color: #3B4455;\n",
              "      --disabled-fill-color: #666;\n",
              "  }\n",
              "\n",
              "  .colab-df-quickchart {\n",
              "    background-color: var(--bg-color);\n",
              "    border: none;\n",
              "    border-radius: 50%;\n",
              "    cursor: pointer;\n",
              "    display: none;\n",
              "    fill: var(--fill-color);\n",
              "    height: 32px;\n",
              "    padding: 0;\n",
              "    width: 32px;\n",
              "  }\n",
              "\n",
              "  .colab-df-quickchart:hover {\n",
              "    background-color: var(--hover-bg-color);\n",
              "    box-shadow: 0 1px 2px rgba(60, 64, 67, 0.3), 0 1px 3px 1px rgba(60, 64, 67, 0.15);\n",
              "    fill: var(--button-hover-fill-color);\n",
              "  }\n",
              "\n",
              "  .colab-df-quickchart-complete:disabled,\n",
              "  .colab-df-quickchart-complete:disabled:hover {\n",
              "    background-color: var(--disabled-bg-color);\n",
              "    fill: var(--disabled-fill-color);\n",
              "    box-shadow: none;\n",
              "  }\n",
              "\n",
              "  .colab-df-spinner {\n",
              "    border: 2px solid var(--fill-color);\n",
              "    border-color: transparent;\n",
              "    border-bottom-color: var(--fill-color);\n",
              "    animation:\n",
              "      spin 1s steps(1) infinite;\n",
              "  }\n",
              "\n",
              "  @keyframes spin {\n",
              "    0% {\n",
              "      border-color: transparent;\n",
              "      border-bottom-color: var(--fill-color);\n",
              "      border-left-color: var(--fill-color);\n",
              "    }\n",
              "    20% {\n",
              "      border-color: transparent;\n",
              "      border-left-color: var(--fill-color);\n",
              "      border-top-color: var(--fill-color);\n",
              "    }\n",
              "    30% {\n",
              "      border-color: transparent;\n",
              "      border-left-color: var(--fill-color);\n",
              "      border-top-color: var(--fill-color);\n",
              "      border-right-color: var(--fill-color);\n",
              "    }\n",
              "    40% {\n",
              "      border-color: transparent;\n",
              "      border-right-color: var(--fill-color);\n",
              "      border-top-color: var(--fill-color);\n",
              "    }\n",
              "    60% {\n",
              "      border-color: transparent;\n",
              "      border-right-color: var(--fill-color);\n",
              "    }\n",
              "    80% {\n",
              "      border-color: transparent;\n",
              "      border-right-color: var(--fill-color);\n",
              "      border-bottom-color: var(--fill-color);\n",
              "    }\n",
              "    90% {\n",
              "      border-color: transparent;\n",
              "      border-bottom-color: var(--fill-color);\n",
              "    }\n",
              "  }\n",
              "</style>\n",
              "\n",
              "  <script>\n",
              "    async function quickchart(key) {\n",
              "      const quickchartButtonEl =\n",
              "        document.querySelector('#' + key + ' button');\n",
              "      quickchartButtonEl.disabled = true;  // To prevent multiple clicks.\n",
              "      quickchartButtonEl.classList.add('colab-df-spinner');\n",
              "      try {\n",
              "        const charts = await google.colab.kernel.invokeFunction(\n",
              "            'suggestCharts', [key], {});\n",
              "      } catch (error) {\n",
              "        console.error('Error during call to suggestCharts:', error);\n",
              "      }\n",
              "      quickchartButtonEl.classList.remove('colab-df-spinner');\n",
              "      quickchartButtonEl.classList.add('colab-df-quickchart-complete');\n",
              "    }\n",
              "    (() => {\n",
              "      let quickchartButtonEl =\n",
              "        document.querySelector('#df-a86ce3eb-3245-4f42-ba73-addf13e35e95 button');\n",
              "      quickchartButtonEl.style.display =\n",
              "        google.colab.kernel.accessAllowed ? 'block' : 'none';\n",
              "    })();\n",
              "  </script>\n",
              "</div>\n",
              "    </div>\n",
              "  </div>\n"
            ]
          },
          "metadata": {},
          "execution_count": 8
        }
      ]
    },
    {
      "cell_type": "code",
      "source": [
        "image_df['Label'].unique()\n"
      ],
      "metadata": {
        "colab": {
          "base_uri": "https://localhost:8080/"
        },
        "id": "LYaJ4n4OWYlb",
        "outputId": "ce21e216-6a60-43b9-85f9-4b18f87b36d0"
      },
      "execution_count": 16,
      "outputs": [
        {
          "output_type": "execute_result",
          "data": {
            "text/plain": [
              "array(['butter_chicken', 'qubani_ka_meetha', 'kachori',\n",
              "       'makki_di_roti_sarson_da_saag', 'chicken_tikka',\n",
              "       'paneer_butter_masala', 'imarti', 'cham_cham', 'kofta', 'poha',\n",
              "       'modak', 'pithe', 'misti_doi', 'sandesh', 'adhirasam',\n",
              "       'aloo_matar', 'poornalu', 'kadai_paneer', 'chicken_tikka_masala',\n",
              "       'bandar_laddu', 'chana_masala', 'gavvalu', 'unni_appam',\n",
              "       'lyangcha', 'chak_hao_kheer', 'bhatura', 'kuzhi_paniyaram',\n",
              "       'aloo_methi', 'palak_paneer', 'mysore_pak', 'misi_roti',\n",
              "       'karela_bharta', 'ghevar', 'sheer_korma', 'chapati', 'ledikeni',\n",
              "       'gajar_ka_halwa', 'sutar_feni', 'dal_makhani', 'shrikhand',\n",
              "       'navrattan_korma', 'dum_aloo', 'daal_baati_churma', 'dal_tadka',\n",
              "       'jalebi', 'maach_jhol', 'rasgulla', 'lassi', 'pootharekulu',\n",
              "       'bhindi_masala', 'sohan_papdi', 'kalakand', 'aloo_gobi',\n",
              "       'doodhpak', 'malapua', 'ariselu', 'shankarpali', 'phirni',\n",
              "       'litti_chokha', 'chicken_razala', 'gulab_jamun', 'biryani',\n",
              "       'kajjikaya', 'sohan_halwa', 'ras_malai', 'aloo_tikki',\n",
              "       'dharwad_pedha', 'sheera', 'anarsa', 'chhena_kheeri', 'basundi',\n",
              "       'kakinada_khaja', 'rabri', 'naan', 'kadhi_pakoda', 'chikki',\n",
              "       'aloo_shimla_mirch', 'double_ka_meetha', 'daal_puri', 'boondi'],\n",
              "      dtype=object)"
            ]
          },
          "metadata": {},
          "execution_count": 16
        }
      ]
    },
    {
      "cell_type": "code",
      "source": [
        "food_calories = {\n",
        "    \"butter_chicken\": 350,\n",
        "    \"qubani_ka_meetha\": 400,\n",
        "    \"kachori\": 250,\n",
        "    \"makki_di_roti_sarson_da_saag\": 150,\n",
        "    \"chicken_tikka\": 200,\n",
        "    \"paneer_butter_masala\": 300,\n",
        "    \"imarti\": 450,\n",
        "    \"cham_cham\": 350,\n",
        "    \"kofta\": 250,\n",
        "    \"poha\": 150,\n",
        "    \"modak\": 200,\n",
        "    \"pithe\": 250,\n",
        "    \"misti_doi\": 200,\n",
        "    \"sandesh\": 300,\n",
        "    \"adhirasam\": 250,\n",
        "    \"aloo_matar\": 200,\n",
        "    \"poornalu\": 250,\n",
        "    \"kadai_paneer\": 300,\n",
        "    \"chicken_tikka_masala\": 200,\n",
        "    \"bandar_laddu\": 450,\n",
        "    \"chana_masala\": 250,\n",
        "    \"gavvalu\": 200,\n",
        "    \"unni_appam\": 250,\n",
        "    \"lyangcha\": 350,\n",
        "    \"chak_hao_kheer\": 400,\n",
        "    \"bhatura\": 250,\n",
        "    \"kuzhi_paniyaram\": 200,\n",
        "    \"aloo_methi\": 200,\n",
        "    \"palak_paneer\": 300,\n",
        "    \"mysore_pak\": 450,\n",
        "    \"misi_roti\": 200,\n",
        "    \"karela_bharta\": 250,\n",
        "    \"ghevar\": 400,\n",
        "    \"sheer_korma\": 350,\n",
        "    \"chapati\": 150,\n",
        "    \"ledikeni\": 250,\n",
        "    \"gajar_ka_halwa\": 450,\n",
        "    \"sutar_feni\": 400,\n",
        "    \"dal_makhani\": 300,\n",
        "    \"shrikhand\": 200,\n",
        "    \"navrattan_korma\": 350,\n",
        "    \"dum_aloo\": 200,\n",
        "    \"daal_baati_churma\": 250,\n",
        "    \"dal_tadka\": 200,\n",
        "    \"jalebi\": 450,\n",
        "    \"maach_jhol\": 250,\n",
        "    \"rasgulla\": 200,\n",
        "    \"lassi\": 150,\n",
        "    \"pootharekulu\": 200,\n",
        "    \"bhindi_masala\": 250,\n",
        "    \"sohan_papdi\": 400,\n",
        "    \"kalakand\": 450,\n",
        "    \"aloo_gobi\": 200,\n",
        "    \"doodhpak\": 200,\n",
        "    \"malapua\": 250,\n",
        "    \"ariselu\": 200,\n",
        "    \"shankarpali\": 350,\n",
        "    \"phirni\": 400,\n",
        "    \"litti_chokha\": 250,\n",
        "    \"chicken_razala\": 200,\n",
        "    \"gulab_jamun\": 450,\n",
        "    \"biryani\": 350,\n",
        "    \"kajjikaya\": 200,\n",
        "    \"sohan_halwa\": 400,\n",
        "    \"ras_malai\": 350,\n",
        "    \"aloo_tikki\": 200,\n",
        "    \"dharwad_pedha\": 450,\n",
        "    \"sheera\": 200,\n",
        "    \"anarsa\": 250,\n",
        "    \"chhena_kheeri\": 200,\n",
        "    \"basundi\": 250,\n",
        "    \"kakinada_khaja\": 400,\n",
        "    \"rabri\": 200,\n",
        "    \"naan\": 150,\n",
        "    \"kadhi_pakoda\": 250,\n",
        "    \"chikki\":500,\n",
        "    \"aloo_shimla_mirch\":150,\n",
        "    \"double_ka_meetha\":400,\n",
        "    \"daal_puri\":200,\n",
        "    \"boondi\":400,\n",
        "}\n",
        ""
      ],
      "metadata": {
        "id": "PocNGYrUbF9R"
      },
      "execution_count": 17,
      "outputs": []
    },
    {
      "cell_type": "code",
      "source": [
        "calories_array = list(food_calories.values())\n",
        "calories_array"
      ],
      "metadata": {
        "colab": {
          "base_uri": "https://localhost:8080/"
        },
        "id": "JOsESDtWfCgE",
        "outputId": "d0d0111d-0a21-41ae-aa60-5f7f4b8efb5e"
      },
      "execution_count": 19,
      "outputs": [
        {
          "output_type": "execute_result",
          "data": {
            "text/plain": [
              "[350,\n",
              " 400,\n",
              " 250,\n",
              " 150,\n",
              " 200,\n",
              " 300,\n",
              " 450,\n",
              " 350,\n",
              " 250,\n",
              " 150,\n",
              " 200,\n",
              " 250,\n",
              " 200,\n",
              " 300,\n",
              " 250,\n",
              " 200,\n",
              " 250,\n",
              " 300,\n",
              " 200,\n",
              " 450,\n",
              " 250,\n",
              " 200,\n",
              " 250,\n",
              " 350,\n",
              " 400,\n",
              " 250,\n",
              " 200,\n",
              " 200,\n",
              " 300,\n",
              " 450,\n",
              " 200,\n",
              " 250,\n",
              " 400,\n",
              " 350,\n",
              " 150,\n",
              " 250,\n",
              " 450,\n",
              " 400,\n",
              " 300,\n",
              " 200,\n",
              " 350,\n",
              " 200,\n",
              " 250,\n",
              " 200,\n",
              " 450,\n",
              " 250,\n",
              " 200,\n",
              " 150,\n",
              " 200,\n",
              " 250,\n",
              " 400,\n",
              " 450,\n",
              " 200,\n",
              " 200,\n",
              " 250,\n",
              " 200,\n",
              " 350,\n",
              " 400,\n",
              " 250,\n",
              " 200,\n",
              " 450,\n",
              " 350,\n",
              " 200,\n",
              " 400,\n",
              " 350,\n",
              " 200,\n",
              " 450,\n",
              " 200,\n",
              " 250,\n",
              " 200,\n",
              " 250,\n",
              " 400,\n",
              " 200,\n",
              " 150,\n",
              " 250,\n",
              " 500,\n",
              " 150,\n",
              " 400,\n",
              " 200,\n",
              " 400]"
            ]
          },
          "metadata": {},
          "execution_count": 19
        }
      ]
    },
    {
      "cell_type": "code",
      "source": [
        "import pandas as pd\n",
        "image_df['calories'] = image_df['Label'].map(food_calories)\n",
        "print(image_df)\n"
      ],
      "metadata": {
        "colab": {
          "base_uri": "https://localhost:8080/"
        },
        "id": "eGX73SqifDNl",
        "outputId": "57c343ce-787e-42c2-dcf0-fc0a2ebe593f"
      },
      "execution_count": 21,
      "outputs": [
        {
          "output_type": "stream",
          "name": "stdout",
          "text": [
            "                                               Filepath  \\\n",
            "0     /content/drive/MyDrive/Datahack 2.0/Indian-Foo...   \n",
            "1     /content/drive/MyDrive/Datahack 2.0/Indian-Foo...   \n",
            "2     /content/drive/MyDrive/Datahack 2.0/Indian-Foo...   \n",
            "3     /content/drive/MyDrive/Datahack 2.0/Indian-Foo...   \n",
            "4     /content/drive/MyDrive/Datahack 2.0/Indian-Foo...   \n",
            "...                                                 ...   \n",
            "4005  /content/drive/MyDrive/Datahack 2.0/Indian-Foo...   \n",
            "4006  /content/drive/MyDrive/Datahack 2.0/Indian-Foo...   \n",
            "4007  /content/drive/MyDrive/Datahack 2.0/Indian-Foo...   \n",
            "4008  /content/drive/MyDrive/Datahack 2.0/Indian-Foo...   \n",
            "4009  /content/drive/MyDrive/Datahack 2.0/Indian-Foo...   \n",
            "\n",
            "                             Label  calories  \n",
            "0                   butter_chicken       350  \n",
            "1                 qubani_ka_meetha       400  \n",
            "2                          kachori       250  \n",
            "3     makki_di_roti_sarson_da_saag       150  \n",
            "4                    chicken_tikka       200  \n",
            "...                            ...       ...  \n",
            "4005                   sheer_korma       350  \n",
            "4006                     ras_malai       350  \n",
            "4007                          naan       150  \n",
            "4008                       biryani       350  \n",
            "4009                     ras_malai       350  \n",
            "\n",
            "[4010 rows x 3 columns]\n"
          ]
        }
      ]
    },
    {
      "cell_type": "code",
      "source": [
        "le = LabelEncoder()\n",
        "image_df['Label'] = le.fit_transform(image_df['Label'])\n",
        "image_df['Label'].value_counts()"
      ],
      "metadata": {
        "colab": {
          "base_uri": "https://localhost:8080/"
        },
        "id": "3BMrxkdOfxDp",
        "outputId": "f4916373-d1fc-456b-977a-6546d7364bf8"
      },
      "execution_count": 22,
      "outputs": [
        {
          "output_type": "execute_result",
          "data": {
            "text/plain": [
              "18    58\n",
              "71    52\n",
              "14    50\n",
              "43    50\n",
              "49    50\n",
              "      ..\n",
              "46    50\n",
              "10    50\n",
              "15    50\n",
              "50    50\n",
              "13    50\n",
              "Name: Label, Length: 80, dtype: int64"
            ]
          },
          "metadata": {},
          "execution_count": 22
        }
      ]
    },
    {
      "cell_type": "code",
      "source": [
        "train_df, test_df = train_test_split(image_df, test_size = 0.30, shuffle = True, random_state = 1)"
      ],
      "metadata": {
        "id": "vwMjKhiRg5wG"
      },
      "execution_count": 23,
      "outputs": []
    },
    {
      "cell_type": "code",
      "source": [
        "train_gen = tf.keras.preprocessing.image.ImageDataGenerator(rescale = 1./255,\n",
        "                                                           validation_split = 0.2)\n",
        "test_gen = tf.keras.preprocessing.image.ImageDataGenerator(rescale = 1./255)"
      ],
      "metadata": {
        "id": "vjIBXdWDg88c"
      },
      "execution_count": 24,
      "outputs": []
    },
    {
      "cell_type": "code",
      "source": [
        "import pandas as pd\n",
        "\n",
        "def convert_to_string_list_or_tuple(df, y_col):\n",
        "  \"\"\"Converts the values in the given column to strings, lists, or tuples.\n",
        "\n",
        "  Args:\n",
        "    df: A Pandas DataFrame.\n",
        "    y_col: The name of the column to convert.\n",
        "\n",
        "  Returns:\n",
        "    The column with the converted values.\n",
        "  \"\"\"\n",
        "\n",
        "  if not isinstance(df[y_col].iloc[0], str):\n",
        "    df[y_col] = df[y_col].astype('str')\n",
        "  if not isinstance(df[y_col].iloc[0], (list, tuple)):\n",
        "    df[y_col] = df[y_col].apply(lambda x: [x])\n",
        "  return df[y_col]\n",
        "\n",
        "# Convert the values in the \"Label\" column to strings, lists, or tuples\n",
        "train_df['Label'] = convert_to_string_list_or_tuple(train_df, 'Label')\n"
      ],
      "metadata": {
        "id": "0nbEaMtWjSfS"
      },
      "execution_count": 28,
      "outputs": []
    },
    {
      "cell_type": "code",
      "source": [
        "import keras\n",
        "from keras.preprocessing.image import ImageDataGenerator\n",
        "\n",
        "# Create a training generator\n",
        "train_gen = ImageDataGenerator(rescale=1./255., validation_split=0.2)\n",
        "train_image = train_gen.flow_from_dataframe(dataframe = train_df,\n",
        "                                           x_col = 'Filepath',\n",
        "                                           y_col = 'Label',\n",
        "                                           target_size = (224,224),\n",
        "                                           batch_size = 32,\n",
        "                                           color_mode = 'rgb',\n",
        "                                           class_mode = 'categorical',\n",
        "                                           shuffle = True,\n",
        "                                           seed = 42,\n",
        "                                           subset = 'training')\n",
        "\n",
        "# Create a validation generator\n",
        "val_gen = ImageDataGenerator(rescale=1./255., validation_split=0.2)\n",
        "val_image = val_gen.flow_from_dataframe(dataframe = train_df,\n",
        "                                           x_col = 'Filepath',\n",
        "                                           y_col = 'Label',\n",
        "                                           target_size = (224,224),\n",
        "                                           batch_size = 32,\n",
        "                                           color_mode = 'rgb',\n",
        "                                           class_mode = 'categorical',\n",
        "                                           shuffle = True,\n",
        "                                           seed = 42,\n",
        "                                           subset = 'validation')\n",
        "\n",
        "# Create a test generator\n",
        "test_df['Label'] = test_df['Label'].astype('str')\n",
        "\n",
        "# Create the test generator\n",
        "test_gen = ImageDataGenerator(rescale=1./255.)\n",
        "test_image = test_gen.flow_from_dataframe(dataframe = test_df,\n",
        "                                           x_col = 'Filepath',\n",
        "                                           y_col = 'Label',\n",
        "                                           target_size = (224,224),\n",
        "                                           batch_size = 32,\n",
        "                                           color_mode = 'rgb',\n",
        "                                           class_mode = 'categorical',\n",
        "                                           shuffle = False)\n"
      ],
      "metadata": {
        "colab": {
          "base_uri": "https://localhost:8080/"
        },
        "id": "kD1bFayOhAwc",
        "outputId": "c45657eb-431c-48a4-bfda-3c8d23a0ea6a"
      },
      "execution_count": 30,
      "outputs": [
        {
          "output_type": "stream",
          "name": "stdout",
          "text": [
            "Found 2246 validated image filenames belonging to 80 classes.\n",
            "Found 561 validated image filenames belonging to 80 classes.\n",
            "Found 1203 validated image filenames belonging to 80 classes.\n"
          ]
        }
      ]
    },
    {
      "cell_type": "code",
      "source": [
        "inputs = tf.keras.Input(shape = (120,120,3))\n",
        "x = tf.keras.layers.Conv2D(filters = 16, kernel_size =(3,3), activation = 'relu' )(inputs)\n",
        "x = tf.keras.layers.MaxPool2D()(x)\n",
        "x = tf.keras.layers.Conv2D(filters = 32, kernel_size =(3,3), activation = 'relu' )(x)\n",
        "x = tf.keras.layers.MaxPool2D()(x)\n",
        "x = tf.keras.layers.GlobalAveragePooling2D()(x)\n",
        "x = tf.keras.layers.Dense(64, activation = 'relu')(x)\n",
        "x = tf.keras.layers.Dense(64, activation = 'relu')(x)\n",
        "outputs = tf.keras.layers.Dense(1, activation = 'linear')(x)\n",
        "model = tf.keras.Model(inputs = inputs, outputs = outputs)\n",
        "model.compile(optimizer = 'adam',\n",
        "             loss = 'mse',\n",
        "             metrics = ['accuracy'])\n",
        "history  = model.fit(train_image,\n",
        "                    validation_data = val_image,\n",
        "                    epochs = 10,\n",
        "                    callbacks = [tf.keras.callbacks.EarlyStopping(\n",
        "                    monitor = 'val_loss',\n",
        "                    patience = 5,\n",
        "                    restore_best_weights = True)])"
      ],
      "metadata": {
        "colab": {
          "base_uri": "https://localhost:8080/"
        },
        "id": "9vcC98B6hELH",
        "outputId": "22d6553d-a4db-4a79-e4f8-d66b34eb0254"
      },
      "execution_count": 34,
      "outputs": [
        {
          "output_type": "stream",
          "name": "stdout",
          "text": [
            "Epoch 1/10\n",
            "71/71 [==============================] - 111s 2s/step - loss: 0.0124 - accuracy: 0.9875 - val_loss: 0.0123 - val_accuracy: 0.9875\n",
            "Epoch 2/10\n",
            "71/71 [==============================] - 113s 2s/step - loss: 0.0123 - accuracy: 0.9875 - val_loss: 0.0123 - val_accuracy: 0.9875\n",
            "Epoch 3/10\n",
            "71/71 [==============================] - 129s 2s/step - loss: 0.0123 - accuracy: 0.9875 - val_loss: 0.0123 - val_accuracy: 0.9875\n",
            "Epoch 4/10\n",
            "71/71 [==============================] - 120s 2s/step - loss: 0.0123 - accuracy: 0.9875 - val_loss: 0.0123 - val_accuracy: 0.9875\n",
            "Epoch 5/10\n",
            "71/71 [==============================] - 104s 1s/step - loss: 0.0123 - accuracy: 0.9875 - val_loss: 0.0123 - val_accuracy: 0.9875\n",
            "Epoch 6/10\n",
            "71/71 [==============================] - 104s 1s/step - loss: 0.0123 - accuracy: 0.9875 - val_loss: 0.0123 - val_accuracy: 0.9875\n",
            "Epoch 7/10\n",
            "71/71 [==============================] - 106s 1s/step - loss: 0.0123 - accuracy: 0.9875 - val_loss: 0.0123 - val_accuracy: 0.9875\n",
            "Epoch 8/10\n",
            "71/71 [==============================] - 106s 1s/step - loss: 0.0123 - accuracy: 0.9875 - val_loss: 0.0123 - val_accuracy: 0.9875\n",
            "Epoch 9/10\n",
            "71/71 [==============================] - 103s 1s/step - loss: 0.0123 - accuracy: 0.9875 - val_loss: 0.0123 - val_accuracy: 0.9875\n",
            "Epoch 10/10\n",
            "71/71 [==============================] - 105s 1s/step - loss: 0.0123 - accuracy: 0.9875 - val_loss: 0.0123 - val_accuracy: 0.9875\n"
          ]
        }
      ]
    },
    {
      "cell_type": "code",
      "source": [
        "result = model.evaluate(test_image, verbose = 0)\n",
        "print('Test Loss : {:.3f}'.format(result[0]))\n",
        "print('Test Accuracy : {:.3f}%'.format(result[1]*100))"
      ],
      "metadata": {
        "colab": {
          "base_uri": "https://localhost:8080/"
        },
        "id": "ae30YUOkkTsw",
        "outputId": "e071c9aa-6f93-42ce-e836-d6e4ce2be826"
      },
      "execution_count": 36,
      "outputs": [
        {
          "output_type": "stream",
          "name": "stdout",
          "text": [
            "Test Loss : 0.012\n",
            "Test Accuracy : 98.750%\n"
          ]
        }
      ]
    },
    {
      "cell_type": "code",
      "source": [
        "plt.figure(figsize = (20,20))\n",
        "plt.subplot(2,2,1)\n",
        "plt.plot(range(10),history.history['accuracy'], label = 'Training Accuracy')\n",
        "plt.plot(range(10), history.history['val_accuracy'], label = 'Validation Accuracy')\n",
        "plt.title('Training Accuracy vs Validation Accuracy')\n",
        "plt.legend(loc = 'lower right')\n",
        "plt.subplot(2,2,2)\n",
        "plt.plot(range(10),history.history['loss'], label = 'Training Loss')\n",
        "plt.plot(range(10), history.history['val_loss'], label = 'Validation Loss')\n",
        "plt.title('Training Loss vs Validation Loss')\n",
        "plt.legend(loc = 'upper right')\n",
        "plt.show()\n"
      ],
      "metadata": {
        "colab": {
          "base_uri": "https://localhost:8080/",
          "height": 500
        },
        "id": "TB4BFsScwoIx",
        "outputId": "f7d5d748-0eb0-43c6-88ad-39f97807041e"
      },
      "execution_count": 37,
      "outputs": [
        {
          "output_type": "display_data",
          "data": {
            "text/plain": [
              "<Figure size 2000x2000 with 2 Axes>"
            ],
            "image/png": "[encoded data removed]"
          },
          "metadata": {}
        }
      ]
    },
    {
      "cell_type": "code",
      "source": [
        "from tensorflow.keras.preprocessing import image\n",
        "import numpy as np\n",
        "\n",
        "sample_image_path = '/content/drive/MyDrive/Datahack 2.0/Indian-Food/Indian Food Images/Indian Food Images/butter_chicken/00a258a357.jpg'\n",
        "img = image.load_img(sample_image_path, target_size=(120, 120))\n",
        "img = image.img_to_array(img)\n",
        "img = np.expand_dims(img, axis=0)\n",
        "img = img/255\n",
        "predictions = model.predict(img)\n",
        "predicted_class = np.argmax(predictions)\n",
        "class_labels = list(food_calories.keys())\n",
        "predicted_label = class_labels[predicted_class]\n",
        "\n",
        "print(f\"The model predicts the sample image as: {predicted_label}\")\n"
      ],
      "metadata": {
        "colab": {
          "base_uri": "https://localhost:8080/"
        },
        "id": "lVC2U1Xp3LJi",
        "outputId": "b3d774a6-ccb4-461f-cdc0-9708ca6caa60"
      },
      "execution_count": 39,
      "outputs": [
        {
          "output_type": "stream",
          "name": "stdout",
          "text": [
            "1/1 [==============================] - 0s 347ms/step\n",
            "The model predicts the sample image as: butter_chicken\n"
          ]
        }
      ]
    },
    {
      "cell_type": "code",
      "source": [
        "predicted_label = class_labels[predicted_class]\n",
        "calorie_value = food_calories.get(predicted_label, \"unknown\")\n",
        "print(f\"Your food {predicted_label} has approximately {calorie_value} calories\")\n"
      ],
      "metadata": {
        "colab": {
          "base_uri": "https://localhost:8080/"
        },
        "id": "X54UbsIu7isB",
        "outputId": "12455707-2269-44d7-a758-fa3aebecbc3b"
      },
      "execution_count": 40,
      "outputs": [
        {
          "output_type": "stream",
          "name": "stdout",
          "text": [
            "Your food butter_chicken has approximately 350 calories\n"
          ]
        }
      ]
    },
    {
      "cell_type": "code",
      "source": [
        "import pickle\n",
        "\n",
        "with open('my_pickled_model.pkl', 'wb') as file:\n",
        "    pickle.dump(model, file)\n"
      ],
      "metadata": {
        "id": "JqZBjj44802P"
      },
      "execution_count": 41,
      "outputs": []
    },
    {
      "cell_type": "code",
      "source": [
        "from google.colab import files\n",
        "\n",
        "files.download('my_pickled_model.pkl')"
      ],
      "metadata": {
        "colab": {
          "base_uri": "https://localhost:8080/",
          "height": 17
        },
        "id": "o5yKP_Kc_T8Y",
        "outputId": "37938748-13b4-4aaa-fee8-86bebeb1ae1b"
      },
      "execution_count": 42,
      "outputs": [
        {
          "output_type": "display_data",
          "data": {
            "text/plain": [
              "<IPython.core.display.Javascript object>"
            ],
            "application/javascript": [
              "\n",
              "    async function download(id, filename, size) {\n",
              "      if (!google.colab.kernel.accessAllowed) {\n",
              "        return;\n",
              "      }\n",
              "      const div = document.createElement('div');\n",
              "      const label = document.createElement('label');\n",
              "      label.textContent = `Downloading \"${filename}\": `;\n",
              "      div.appendChild(label);\n",
              "      const progress = document.createElement('progress');\n",
              "      progress.max = size;\n",
              "      div.appendChild(progress);\n",
              "      document.body.appendChild(div);\n",
              "\n",
              "      const buffers = [];\n",
              "      let downloaded = 0;\n",
              "\n",
              "      const channel = await google.colab.kernel.comms.open(id);\n",
              "      // Send a message to notify the kernel that we're ready.\n",
              "      channel.send({})\n",
              "\n",
              "      for await (const message of channel.messages) {\n",
              "        // Send a message to notify the kernel that we're ready.\n",
              "        channel.send({})\n",
              "        if (message.buffers) {\n",
              "          for (const buffer of message.buffers) {\n",
              "            buffers.push(buffer);\n",
              "            downloaded += buffer.byteLength;\n",
              "            progress.value = downloaded;\n",
              "          }\n",
              "        }\n",
              "      }\n",
              "      const blob = new Blob(buffers, {type: 'application/binary'});\n",
              "      const a = document.createElement('a');\n",
              "      a.href = window.URL.createObjectURL(blob);\n",
              "      a.download = filename;\n",
              "      div.appendChild(a);\n",
              "      a.click();\n",
              "      div.remove();\n",
              "    }\n",
              "  "
            ]
          },
          "metadata": {}
        },
        {
          "output_type": "display_data",
          "data": {
            "text/plain": [
              "<IPython.core.display.Javascript object>"
            ],
            "application/javascript": [
              "download(\"download_4abe1f8c-275c-441d-abe6-5f4953912715\", \"my_pickled_model.pkl\", 182104)"
            ]
          },
          "metadata": {}
        }
      ]
    }
  ]
}